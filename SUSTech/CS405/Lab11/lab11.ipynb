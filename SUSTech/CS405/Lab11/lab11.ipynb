{
 "cells": [
  {
   "cell_type": "markdown",
   "metadata": {},
   "source": [
    "# Q-Learning"
   ]
  },
  {
   "cell_type": "code",
   "execution_count": 1,
   "metadata": {},
   "outputs": [],
   "source": [
    "import gym\n",
    "import numpy as np\n",
    "import random\n",
    "\n",
    "# the None is the position you should modeify to complete the algorithm"
   ]
  },
  {
   "cell_type": "markdown",
   "metadata": {},
   "source": [
    "## Step 1 Creat the environment\n",
    "Using the API imported from gym"
   ]
  },
  {
   "cell_type": "code",
   "execution_count": 2,
   "metadata": {},
   "outputs": [
    {
     "output_type": "stream",
     "name": "stdout",
     "text": [
      "+---------+\n|R: | : :\u001b[34;1mG\u001b[0m|\n| :\u001b[43m \u001b[0m| : : |\n| : : : : |\n| | : | : |\n|Y| : |\u001b[35mB\u001b[0m: |\n+---------+\n\n"
     ]
    }
   ],
   "source": [
    "env = gym.make('Taxi-v3')\n",
    "env.render()"
   ]
  },
  {
   "cell_type": "markdown",
   "metadata": {},
   "source": [
    "## Step 2  Create the Q-table and initialize it"
   ]
  },
  {
   "cell_type": "code",
   "execution_count": 3,
   "metadata": {},
   "outputs": [],
   "source": [
    "action_space = env.action_space.n\n",
    "state_space = env.observation_space.n\n",
    "Q_table = np.zeros((state_space, action_space))"
   ]
  },
  {
   "cell_type": "markdown",
   "metadata": {},
   "source": [
    "## Step 3 Configure the hyperparameters"
   ]
  },
  {
   "cell_type": "code",
   "execution_count": 4,
   "metadata": {},
   "outputs": [],
   "source": [
    "total_episodes = 50000\n",
    "total_test_episodes = 100\n",
    "learning_rate = 0.02\n",
    "\n",
    "# discount rate\n",
    "gamma = 0.8\n",
    "\n",
    "# Create the hyperparameters\n",
    "sample_rewards = []"
   ]
  },
  {
   "cell_type": "markdown",
   "metadata": {},
   "source": [
    "## Step 4 Q Learning algorithm"
   ]
  },
  {
   "cell_type": "code",
   "execution_count": 5,
   "metadata": {},
   "outputs": [
    {
     "output_type": "stream",
     "name": "stdout",
     "text": [
      "average reward: 0: -524.0\n",
      "average reward: 1000: -227.852\n",
      "average reward: 2000: -131.678\n",
      "average reward: 3000: -61.176\n",
      "average reward: 4000: -30.113\n",
      "average reward: 5000: -11.817\n",
      "average reward: 6000: -3.024\n",
      "average reward: 7000: 1.591\n",
      "average reward: 8000: 3.453\n",
      "average reward: 9000: 5.256\n",
      "average reward: 10000: 5.94\n",
      "average reward: 11000: 6.571\n",
      "average reward: 12000: 6.864\n",
      "average reward: 13000: 7.142\n",
      "average reward: 14000: 7.397\n",
      "average reward: 15000: 7.44\n",
      "average reward: 16000: 7.449\n",
      "average reward: 17000: 7.54\n",
      "average reward: 18000: 7.749\n",
      "average reward: 19000: 7.741\n",
      "average reward: 20000: 7.736\n",
      "average reward: 21000: 7.761\n",
      "average reward: 22000: 7.781\n",
      "average reward: 23000: 7.863\n",
      "average reward: 24000: 7.819\n",
      "average reward: 25000: 7.819\n",
      "average reward: 26000: 8.011\n",
      "average reward: 27000: 7.792\n",
      "average reward: 28000: 7.944\n",
      "average reward: 29000: 7.976\n",
      "average reward: 30000: 7.705\n",
      "average reward: 31000: 7.714\n",
      "average reward: 32000: 7.75\n",
      "average reward: 33000: 7.827\n",
      "average reward: 34000: 7.907\n",
      "average reward: 35000: 7.843\n",
      "average reward: 36000: 7.972\n",
      "average reward: 37000: 7.678\n",
      "average reward: 38000: 7.935\n",
      "average reward: 39000: 7.839\n",
      "average reward: 40000: 7.776\n",
      "average reward: 41000: 7.986\n",
      "average reward: 42000: 7.85\n",
      "average reward: 43000: 7.954\n",
      "average reward: 44000: 7.747\n",
      "average reward: 45000: 7.946\n",
      "average reward: 46000: 8.03\n",
      "average reward: 47000: 7.855\n",
      "average reward: 48000: 7.878\n",
      "average reward: 49000: 7.915\n"
     ]
    }
   ],
   "source": [
    "for episode in range(total_episodes):\n",
    "    state = env.reset()\n",
    "    step = 0\n",
    "    done = False\n",
    "    sample_reward = 0 \n",
    "    while True:\n",
    "        # Please complete this action selection in this line via the maximum value\n",
    "        action = np.argmax(Q_table[state, :])\n",
    "        \n",
    "        # fetech the new state and reward by gym API\n",
    "        new_state, reward, done, info = env.step(action)\n",
    "        # Calculate the reward of this episode\n",
    "        sample_reward += reward\n",
    "        \n",
    "        # Update the Q table\n",
    "        Q_table[state, action] += learning_rate * (reward + gamma * np.max(Q_table[new_state, :]) - Q_table[state, action])\n",
    "        \n",
    "        # Update the state\n",
    "        state = new_state\n",
    "        \n",
    "        #store the episode reward\n",
    "        if done:\n",
    "            sample_rewards.append(sample_reward)\n",
    "            break\n",
    "            \n",
    "    # print the average reward over 1000 episodes\n",
    "    if episode % 1000 == 0:\n",
    "        mean_reward = np.mean(sample_rewards)\n",
    "        sample_rewards = []\n",
    "        print(\"average reward: \" +str(episode)+ \": \"+str(mean_reward))"
   ]
  },
  {
   "cell_type": "markdown",
   "metadata": {},
   "source": [
    "## Step 5 Test your Q table"
   ]
  },
  {
   "cell_type": "code",
   "execution_count": 6,
   "metadata": {},
   "outputs": [
    {
     "output_type": "stream",
     "name": "stdout",
     "text": [
      "test:\naverage reward over 100 episode: 8.02\n"
     ]
    }
   ],
   "source": [
    "env.reset()\n",
    "rewards=[]\n",
    "\n",
    "max_steps = 1000\n",
    "\n",
    "for episode in range(total_test_episodes):\n",
    "    state = env.reset()\n",
    "    step = 0\n",
    "    done = False\n",
    "    total_rewards = 0\n",
    "\n",
    "    for step in range(max_steps):\n",
    "        #  action selection\n",
    "        action = np.argmax(Q_table[state,:])\n",
    "        # fetech the new state and reward by gym API\n",
    "        new_state, reward, done, info = env.step(action)\n",
    "        \n",
    "        total_rewards += reward\n",
    "        if done:\n",
    "            rewards.append(total_rewards)\n",
    "            break\n",
    "        state = new_state\n",
    "     \n",
    "env.close()\n",
    "print(\"test:\")\n",
    "print(\"average reward over 100 episode: \" + str(np.mean(rewards)))"
   ]
  }
 ],
 "metadata": {
  "file_extension": ".py",
  "kernelspec": {
   "display_name": "Python 3",
   "language": "python",
   "name": "python3"
  },
  "language_info": {
   "codemirror_mode": {
    "name": "ipython",
    "version": 3
   },
   "file_extension": ".py",
   "mimetype": "text/x-python",
   "name": "python",
   "nbconvert_exporter": "python",
   "pygments_lexer": "ipython3",
   "version": "3.7.4-final"
  },
  "mimetype": "text/x-python",
  "name": "python",
  "npconvert_exporter": "python",
  "pygments_lexer": "ipython3",
  "version": 3
 },
 "nbformat": 4,
 "nbformat_minor": 2
}