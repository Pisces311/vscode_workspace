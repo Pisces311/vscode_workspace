{
 "metadata": {
  "language_info": {
   "codemirror_mode": {
    "name": "ipython",
    "version": 3
   },
   "file_extension": ".py",
   "mimetype": "text/x-python",
   "name": "python",
   "nbconvert_exporter": "python",
   "pygments_lexer": "ipython3",
   "version": "3.7.4-final"
  },
  "orig_nbformat": 2,
  "kernelspec": {
   "name": "Python 3.7.4 32-bit",
   "display_name": "Python 3.7.4 32-bit",
   "metadata": {
    "interpreter": {
     "hash": "ab187c7f488f8a22b0cf06df02c09d54550e437f49b0400580e586584706b297"
    }
   }
  }
 },
 "nbformat": 4,
 "nbformat_minor": 2,
 "cells": [
  {
   "cell_type": "code",
   "execution_count": 59,
   "metadata": {
    "tags": []
   },
   "outputs": [],
   "source": [
    "from collections import Counter\n",
    "\n",
    "def make_Dictionary(train_dir):\n",
    "    emails = [os.path.join(train_dir, f) for f in os.listdir(train_dir)]\n",
    "    all_words = []\n",
    "    for mail in emails:\n",
    "        with open(mail) as m:\n",
    "            for i, line in enumerate(m):\n",
    "                if i == 2:\n",
    "                    words = line.split()\n",
    "                    all_words += words\n",
    "    \n",
    "    dictionary = Counter(all_words)\n",
    "\n",
    "    list_to_remove = list(dictionary.keys())\n",
    "    for item in list_to_remove:\n",
    "        if item.isalpha() == False:\n",
    "            del dictionary[item]\n",
    "        elif len(item) == 1:\n",
    "            del dictionary[item]\n",
    "    dictionary = dictionary.most_common(3000)\n",
    "\n",
    "    return dictionary"
   ]
  },
  {
   "cell_type": "code",
   "execution_count": 60,
   "metadata": {},
   "outputs": [],
   "source": [
    "import numpy as np\n",
    "\n",
    "def extract_features(mail_dir):\n",
    "    files = [os.path.join(mail_dir, fi) for fi in os.listdir(mail_dir)]\n",
    "    features_matrix = np.zeros((len(files), 3000))\n",
    "    docID = 0\n",
    "    for fil in files:\n",
    "        with open(fil) as fi:\n",
    "            for i, line in enumerate(fi):\n",
    "                if i == 2:\n",
    "                    words = line.split()\n",
    "                    for word in words:\n",
    "                        wordID = 0\n",
    "                        for i, d in enumerate(dictionary):\n",
    "                            if d[0] == word:\n",
    "                                wordID = i\n",
    "                                features_matrix[docID, wordID] = words.count(word)\n",
    "            docID = docID + 1\n",
    "    return features_matrix"
   ]
  },
  {
   "cell_type": "code",
   "execution_count": 61,
   "metadata": {
    "tags": []
   },
   "outputs": [],
   "source": [
    "dictionary = make_Dictionary('./ling-spam/train-mails/')\n",
    "train_feature = extract_features('./ling-spam/train-mails')\n",
    "ham_feature, spam_feature = np.split(train_feature, 2)\n",
    "test_feature = extract_features('./ling-spam/test-mails')"
   ]
  },
  {
   "cell_type": "code",
   "execution_count": 62,
   "metadata": {
    "tags": []
   },
   "outputs": [],
   "source": [
    "def calculate(feature_matrix):\n",
    "    prob = sum(feature_matrix) / feature_matrix.sum()\n",
    "    for i in range(3000):\n",
    "        if not prob[i]:\n",
    "            prob[i] = 1\n",
    "    min_prob = min(prob)\n",
    "    for i in range(3000):\n",
    "        if prob[i] == 1:\n",
    "            prob[i] = min_prob\n",
    "    return prob\n",
    "\n",
    "ham_likelihood = calculate(ham_feature)\n",
    "spam_likelihood = calculate(spam_feature)"
   ]
  },
  {
   "cell_type": "code",
   "execution_count": 63,
   "metadata": {},
   "outputs": [],
   "source": [
    "def naive_Bayes(test, ham, spam):\n",
    "    n = len(test)\n",
    "    res = [False for i in range(n)]\n",
    "    prob_ham, prob_spam = np.zeros(n), np.zeros(n)\n",
    "    for i in range(n):\n",
    "        for j in range(3000):\n",
    "            if test[i, j] > 0:\n",
    "                prob_ham[i] += np.log(ham[j]) * test[i, j]\n",
    "                prob_spam[i] += np.log(spam[j]) * test[i, j]\n",
    "        if prob_ham[i] < prob_spam[i]:\n",
    "            res[i] = True\n",
    "    return res\n",
    "\n",
    "result = naive_Bayes(test_feature, ham_likelihood, spam_likelihood)"
   ]
  },
  {
   "cell_type": "code",
   "execution_count": 64,
   "metadata": {
    "tags": []
   },
   "outputs": [
    {
     "output_type": "stream",
     "name": "stdout",
     "text": "Accuracy: 0.9615384615384616\nPrecision: 0.9918032786885246\nRecall: 0.9307692307692308\nF-1 score: 0.9603174603174605\n"
    }
   ],
   "source": [
    "n = len(test_feature)\n",
    "mid = n // 2\n",
    "TP = sum(result[mid:n])\n",
    "FP = sum(result[0:mid])\n",
    "TN = n / 2 - FP\n",
    "FN = n / 2 - TP\n",
    "acc = (TP + TN) / n\n",
    "prec = TP / (TP + FP)\n",
    "rec = TP / (TP + FN)\n",
    "f_1 = 2 * (rec * prec) / (rec + prec)\n",
    "print(f'Accuracy: {acc}\\nPrecision: {prec}\\nRecall: {rec}\\nF-1 score: {f_1}')"
   ]
  }
 ]
}