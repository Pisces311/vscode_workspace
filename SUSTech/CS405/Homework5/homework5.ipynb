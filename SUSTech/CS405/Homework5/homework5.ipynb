{
 "cells": [
  {
   "cell_type": "markdown",
   "metadata": {},
   "source": [
    "# Pre-ProgramQuestion\n",
    "1. H = W = (63 - 7 + 2 * 0) / 2 + 1 = 29. The output volume is 29 * 29 * 32\n",
    "\n",
    "2. 300 * 300 * 3 * 100 + 1 = 27000001 parameters\n",
    "\n",
    "3. convolved with filter 1:\n",
    "\n",
    "| 9    | 8    | 2    |\n",
    "| ---- | ---- | ---- |\n",
    "| 4    | 16   | 9    |\n",
    "| 16   | 22   | 3    |\n",
    "\n",
    "convolved with filter 2:\n",
    "\n",
    "| 20   | 8    | -6   |\n",
    "| ---- | ---- | ---- |\n",
    "| 7    | -1   | 19   |\n",
    "| 24   | 7    | 0    |\n",
    "\n",
    "4. 30 * 20 + 1 + (20 * 20 + 1) * 8 + 20 + 1 = 3830\n",
    "\n",
    "5. CNN has smaller number of parameters to be learned. CNN utilzes the location information of the pixels in the images. "
   ]
  },
  {
   "cell_type": "markdown",
   "metadata": {
    "colab_type": "text",
    "id": "KAqXcDzKwj4D"
   },
   "source": [
    "# HW5_programQuestion"
   ]
  },
  {
   "cell_type": "code",
   "execution_count": 1,
   "metadata": {},
   "outputs": [],
   "source": [
    "\"\"\"\n",
    "Import libraries that you might require\n",
    "\"\"\"\n",
    "\n",
    "import numpy as np\n",
    "import math\n",
    "import matplotlib.pyplot as plt\n",
    "import operator\n",
    "import torch\n",
    "import torchvision\n",
    "from torchvision import datasets, transforms\n",
    "from sklearn.metrics import accuracy_score\n",
    "import sklearn.model_selection as ms\n",
    "from sklearn.ensemble import RandomForestClassifier\n",
    "from sklearn.svm import SVC\n",
    "from sklearn.neural_network import MLPClassifier\n"
   ]
  },
  {
   "cell_type": "markdown",
   "metadata": {
    "colab_type": "text",
    "id": "qvDAZByo_X1w"
   },
   "source": [
    "## 1. Loading the Dataset\n",
    "The output of torchvision datasets are PILImage images of range [0, 1].  \n",
    "We transform them to Tensors of normalized range [-1, 1].  \n",
    "```Transforms.Normalize((mean,),(std,))``` basically manipulates the values of a pixel such that  \n",
    "$$New\\_Value = \\frac{Old\\_Value - Mean}{Std}$$\n",
    "\n"
   ]
  },
  {
   "cell_type": "code",
   "execution_count": 2,
   "metadata": {},
   "outputs": [],
   "source": [
    "# Define a transform to normalize the data\n",
    "\n",
    "#TODO : Set the value of mean and the standard deviation to \n",
    "#       normalize the image from range [0,1] to the range [-1, 1]\n",
    "\n",
    "\n",
    "#Begin Your Code\n",
    "\n",
    "mean = (0.5,)\n",
    "std = (0.5,)\n",
    "\n",
    "#End Your Code\n",
    "\n",
    "transform = transforms.Compose([transforms.ToTensor(),\n",
    "                                transforms.Normalize(mean, std)\n",
    "                                ])\n",
    "\n",
    "\n",
    "#TODO : Select suitable value of batch_sizes.\n",
    "\n",
    "#Begin Your Code\n",
    "\n",
    "train_batch_size = 4\n",
    "test_batch_size = 4\n",
    " \n",
    "#End Your Code\n",
    "\n",
    "# Download and load the training data\n",
    "trainset = datasets.FashionMNIST('~/.pytorch/F_MNIST_data/', download=True, train=True, transform=transform)\n",
    "trainloader = torch.utils.data.DataLoader(trainset, batch_size=train_batch_size, shuffle=True)\n",
    "\n",
    "# Download and load the test data\n",
    "testset = datasets.FashionMNIST('~/.pytorch/F_MNIST_data/', download=True, train=False, transform=transform)\n",
    "testloader = torch.utils.data.DataLoader(testset, batch_size=test_batch_size, shuffle=True)\n",
    "\n",
    "# Classes\n",
    "classes = {       0 :'T-shirt/top',\n",
    "                  1 :'Trouser',\n",
    "                  2 :'Pullover',\n",
    "                  3 :'Dress',\n",
    "                  4 :'Coat',\n",
    "                  5 :'Sandal',\n",
    "                  6 :'Shirt',\n",
    "                  7 :'Sneaker',\n",
    "                  8 :'Bag',\n",
    "                  9 :'Ankle boot'}"
   ]
  },
  {
   "cell_type": "markdown",
   "metadata": {
    "colab_type": "text",
    "id": "SFBh6ZhO_X1y"
   },
   "source": [
    "## 2. The Dataset\n",
    "Here we show some images of the dataset.  \n",
    "See how many of the categories can you recognise.\n",
    "\n"
   ]
  },
  {
   "cell_type": "code",
   "execution_count": 3,
   "metadata": {},
   "outputs": [
    {
     "data": {
      "image/png": "[encoded data removed]",
      "text/plain": [
       "<Figure size 1200x900 with 1 Axes>"
      ]
     },
     "metadata": {
      "needs_background": "light"
     },
     "output_type": "display_data"
    }
   ],
   "source": [
    "import matplotlib.pyplot as plt\n",
    "from matplotlib.pyplot import figure\n",
    "import numpy as np\n",
    "\n",
    "# Functions to show an image\n",
    "\n",
    "\n",
    "def imshow(img):\n",
    "    img = img / 2 + 0.5     # unnormalize\n",
    "    npimg = img.numpy()\n",
    "    \n",
    "    figure(num=None, figsize=(8, 6), dpi=150, edgecolor='k')\n",
    "    plt.axis('off')\n",
    "    plt.imshow(np.transpose(npimg, (1, 2, 0)))\n",
    "\n",
    "\n",
    "# get some random training images\n",
    "dataiter = iter(trainloader)\n",
    "images, labels = dataiter.next()\n",
    "\n",
    "# show images\n",
    "imshow(torchvision.utils.make_grid(images))"
   ]
  },
  {
   "cell_type": "markdown",
   "metadata": {
    "colab_type": "text",
    "id": "le9N91sO_X11"
   },
   "source": [
    "## 3. Create your Convolutional Neural Network"
   ]
  },
  {
   "cell_type": "code",
   "execution_count": 4,
   "metadata": {},
   "outputs": [],
   "source": [
    "import torch.nn as nn\n",
    "import torch.nn.functional as F\n",
    "\n",
    "\n",
    "class Net(nn.Module):\n",
    "    def __init__(self):\n",
    "        super(Net, self).__init__()\n",
    "\n",
    "        #TODO : Design your network, you are allowed to explore your own architecture\n",
    "        #       But you should achieve a better overall accuracy than the baseline network.\n",
    "        #       Also, if you do design your own network, include an explanation \n",
    "        #       for your choice of network and how it may be better than the \n",
    "        #       baseline network.\n",
    "        \n",
    "        #Begin Your Code\n",
    "        self.conv1 = nn.Conv2d(1, 16, 5, stride=1, padding=2)\n",
    "        self.pool = nn.MaxPool2d(2, 2)\n",
    "        self.conv2 = nn.Conv2d(16, 32, 5, stride=1, padding=2)\n",
    "        self.dropout = nn.Dropout2d(0.5)\n",
    "        self.fc1 = nn.Linear(32 * 7 * 7, 520)\n",
    "        self.fc2 = nn.Linear(520, 120)\n",
    "        self.fc3 = nn.Linear(120, 10)\n",
    "        #End Your Code\n",
    "\n",
    "    def forward(self, x):\n",
    "\n",
    "        #TODO : Implement the forward function that applies the layers you have created to the input\n",
    "\n",
    "        #Begin Your Code\n",
    "        x = self.pool(F.relu(self.conv1(x)))\n",
    "        x = self.pool(F.relu(self.conv2(x)))\n",
    "        x = self.dropout(x)\n",
    "        x = x.view(-1, 7 * 7 * 32)\n",
    "        x = F.relu(self.fc1(x))\n",
    "        x = F.relu(self.fc2(x))\n",
    "        x = self.fc3(x)\n",
    "        return x\n",
    "        #End Your Code\n",
    "\n",
    "\n",
    "net = Net()"
   ]
  },
  {
   "cell_type": "markdown",
   "metadata": {
    "colab_type": "text",
    "id": "jieF6xy__X13"
   },
   "source": [
    "## 4. Define a Loss function and optimizer\n",
    "We will be using [Cross Entropy Loss](https://pytorch.org/docs/stable/nn.html?highlight=crossentropyloss#torch.nn.CrossEntropyLoss) and [Adam optimizer](https://pytorch.org/docs/stable/optim.html?highlight=adam#torch.optim.Adam).  \n",
    "Note: PyTorch's CrossEntropyLoss combines log softmax and negative log likelihood loss in one class. Make sure you are not computing softmax twice.\n",
    "\n"
   ]
  },
  {
   "cell_type": "code",
   "execution_count": 5,
   "metadata": {},
   "outputs": [],
   "source": [
    "import torch.optim as optim\n",
    "\n",
    "#TODO : Use appropriate loss criterion and optimizer \n",
    "\n",
    "#Begin Your Code\n",
    "\n",
    "criterion = nn.CrossEntropyLoss()\n",
    "optimizer = optim.Adam(net.parameters())\n",
    "\n",
    "#End Your Code"
   ]
  },
  {
   "cell_type": "markdown",
   "metadata": {
    "colab_type": "text",
    "id": "D4za3t0b_X15"
   },
   "source": [
    "## 5. Train the network\n",
    "\n",
    "Here we are going to train the network while logging the per batch metrics.  \n",
    "This would take some time to run (5-10 minutes).\n",
    "\n"
   ]
  },
  {
   "cell_type": "code",
   "execution_count": 6,
   "metadata": {},
   "outputs": [
    {
     "name": "stdout",
     "output_type": "stream",
     "text": [
      "Epoch: 1, Batch:   200, loss: 1.523\n",
      "Epoch: 1, Batch:   400, loss: 0.893\n",
      "Epoch: 1, Batch:   600, loss: 0.816\n",
      "Epoch: 1, Batch:   800, loss: 0.759\n",
      "Epoch: 1, Batch:  1000, loss: 0.754\n",
      "Epoch: 1, Batch:  1200, loss: 0.669\n",
      "Epoch: 1, Batch:  1400, loss: 0.716\n",
      "Epoch: 1, Batch:  1600, loss: 0.682\n",
      "Epoch: 1, Batch:  1800, loss: 0.627\n",
      "Epoch: 1, Batch:  2000, loss: 0.634\n",
      "Epoch: 1, Batch:  2200, loss: 0.630\n",
      "Epoch: 1, Batch:  2400, loss: 0.561\n",
      "Epoch: 1, Batch:  2600, loss: 0.558\n",
      "Epoch: 1, Batch:  2800, loss: 0.569\n",
      "Epoch: 1, Batch:  3000, loss: 0.524\n",
      "Epoch: 1, Batch:  3200, loss: 0.546\n",
      "Epoch: 1, Batch:  3400, loss: 0.513\n",
      "Epoch: 1, Batch:  3600, loss: 0.532\n",
      "Epoch: 1, Batch:  3800, loss: 0.509\n",
      "Epoch: 1, Batch:  4000, loss: 0.502\n",
      "Epoch: 1, Batch:  4200, loss: 0.547\n",
      "Epoch: 1, Batch:  4400, loss: 0.527\n",
      "Epoch: 1, Batch:  4600, loss: 0.474\n",
      "Epoch: 1, Batch:  4800, loss: 0.532\n",
      "Epoch: 1, Batch:  5000, loss: 0.512\n",
      "Epoch: 1, Batch:  5200, loss: 0.469\n",
      "Epoch: 1, Batch:  5400, loss: 0.546\n",
      "Epoch: 1, Batch:  5600, loss: 0.558\n",
      "Epoch: 1, Batch:  5800, loss: 0.492\n",
      "Epoch: 1, Batch:  6000, loss: 0.486\n",
      "Epoch: 1, Batch:  6200, loss: 0.493\n",
      "Epoch: 1, Batch:  6400, loss: 0.459\n",
      "Epoch: 1, Batch:  6600, loss: 0.445\n",
      "Epoch: 1, Batch:  6800, loss: 0.476\n",
      "Epoch: 1, Batch:  7000, loss: 0.466\n",
      "Epoch: 1, Batch:  7200, loss: 0.439\n",
      "Epoch: 1, Batch:  7400, loss: 0.504\n",
      "Epoch: 1, Batch:  7600, loss: 0.557\n",
      "Epoch: 1, Batch:  7800, loss: 0.414\n",
      "Epoch: 1, Batch:  8000, loss: 0.416\n",
      "Epoch: 1, Batch:  8200, loss: 0.427\n",
      "Epoch: 1, Batch:  8400, loss: 0.467\n",
      "Epoch: 1, Batch:  8600, loss: 0.450\n",
      "Epoch: 1, Batch:  8800, loss: 0.459\n",
      "Epoch: 1, Batch:  9000, loss: 0.500\n",
      "Epoch: 1, Batch:  9200, loss: 0.450\n",
      "Epoch: 1, Batch:  9400, loss: 0.450\n",
      "Epoch: 1, Batch:  9600, loss: 0.441\n",
      "Epoch: 1, Batch:  9800, loss: 0.381\n",
      "Epoch: 1, Batch: 10000, loss: 0.425\n",
      "Epoch: 1, Batch: 10200, loss: 0.469\n",
      "Epoch: 1, Batch: 10400, loss: 0.430\n",
      "Epoch: 1, Batch: 10600, loss: 0.451\n",
      "Epoch: 1, Batch: 10800, loss: 0.403\n",
      "Epoch: 1, Batch: 11000, loss: 0.469\n",
      "Epoch: 1, Batch: 11200, loss: 0.450\n",
      "Epoch: 1, Batch: 11400, loss: 0.414\n",
      "Epoch: 1, Batch: 11600, loss: 0.445\n",
      "Epoch: 1, Batch: 11800, loss: 0.394\n",
      "Epoch: 1, Batch: 12000, loss: 0.434\n",
      "Epoch: 1, Batch: 12200, loss: 0.408\n",
      "Epoch: 1, Batch: 12400, loss: 0.389\n",
      "Epoch: 1, Batch: 12600, loss: 0.428\n",
      "Epoch: 1, Batch: 12800, loss: 0.379\n",
      "Epoch: 1, Batch: 13000, loss: 0.383\n",
      "Epoch: 1, Batch: 13200, loss: 0.444\n",
      "Epoch: 1, Batch: 13400, loss: 0.405\n",
      "Epoch: 1, Batch: 13600, loss: 0.371\n",
      "Epoch: 1, Batch: 13800, loss: 0.408\n",
      "Epoch: 1, Batch: 14000, loss: 0.440\n",
      "Epoch: 1, Batch: 14200, loss: 0.434\n",
      "Epoch: 1, Batch: 14400, loss: 0.392\n",
      "Epoch: 1, Batch: 14600, loss: 0.444\n",
      "Epoch: 1, Batch: 14800, loss: 0.322\n",
      "Epoch: 1, Batch: 15000, loss: 0.446\n",
      "Epoch: 2, Batch:   200, loss: 0.417\n",
      "Epoch: 2, Batch:   400, loss: 0.473\n",
      "Epoch: 2, Batch:   600, loss: 0.426\n",
      "Epoch: 2, Batch:   800, loss: 0.376\n",
      "Epoch: 2, Batch:  1000, loss: 0.412\n",
      "Epoch: 2, Batch:  1200, loss: 0.414\n",
      "Epoch: 2, Batch:  1400, loss: 0.385\n",
      "Epoch: 2, Batch:  1600, loss: 0.422\n",
      "Epoch: 2, Batch:  1800, loss: 0.339\n",
      "Epoch: 2, Batch:  2000, loss: 0.416\n",
      "Epoch: 2, Batch:  2200, loss: 0.398\n",
      "Epoch: 2, Batch:  2400, loss: 0.419\n",
      "Epoch: 2, Batch:  2600, loss: 0.324\n",
      "Epoch: 2, Batch:  2800, loss: 0.350\n",
      "Epoch: 2, Batch:  3000, loss: 0.423\n",
      "Epoch: 2, Batch:  3200, loss: 0.391\n",
      "Epoch: 2, Batch:  3400, loss: 0.348\n",
      "Epoch: 2, Batch:  3600, loss: 0.332\n",
      "Epoch: 2, Batch:  3800, loss: 0.373\n",
      "Epoch: 2, Batch:  4000, loss: 0.417\n",
      "Epoch: 2, Batch:  4200, loss: 0.369\n",
      "Epoch: 2, Batch:  4400, loss: 0.353\n",
      "Epoch: 2, Batch:  4600, loss: 0.388\n",
      "Epoch: 2, Batch:  4800, loss: 0.412\n",
      "Epoch: 2, Batch:  5000, loss: 0.434\n",
      "Epoch: 2, Batch:  5200, loss: 0.372\n",
      "Epoch: 2, Batch:  5400, loss: 0.367\n",
      "Epoch: 2, Batch:  5600, loss: 0.406\n",
      "Epoch: 2, Batch:  5800, loss: 0.364\n",
      "Epoch: 2, Batch:  6000, loss: 0.442\n",
      "Epoch: 2, Batch:  6200, loss: 0.348\n",
      "Epoch: 2, Batch:  6400, loss: 0.343\n",
      "Epoch: 2, Batch:  6600, loss: 0.306\n",
      "Epoch: 2, Batch:  6800, loss: 0.326\n",
      "Epoch: 2, Batch:  7000, loss: 0.337\n",
      "Epoch: 2, Batch:  7200, loss: 0.404\n",
      "Epoch: 2, Batch:  7400, loss: 0.403\n",
      "Epoch: 2, Batch:  7600, loss: 0.368\n",
      "Epoch: 2, Batch:  7800, loss: 0.362\n",
      "Epoch: 2, Batch:  8000, loss: 0.398\n",
      "Epoch: 2, Batch:  8200, loss: 0.428\n",
      "Epoch: 2, Batch:  8400, loss: 0.362\n",
      "Epoch: 2, Batch:  8600, loss: 0.384\n",
      "Epoch: 2, Batch:  8800, loss: 0.374\n",
      "Epoch: 2, Batch:  9000, loss: 0.326\n",
      "Epoch: 2, Batch:  9200, loss: 0.349\n",
      "Epoch: 2, Batch:  9400, loss: 0.343\n",
      "Epoch: 2, Batch:  9600, loss: 0.389\n",
      "Epoch: 2, Batch:  9800, loss: 0.407\n",
      "Epoch: 2, Batch: 10000, loss: 0.329\n",
      "Epoch: 2, Batch: 10200, loss: 0.446\n",
      "Epoch: 2, Batch: 10400, loss: 0.291\n",
      "Epoch: 2, Batch: 10600, loss: 0.382\n",
      "Epoch: 2, Batch: 10800, loss: 0.323\n",
      "Epoch: 2, Batch: 11000, loss: 0.396\n",
      "Epoch: 2, Batch: 11200, loss: 0.342\n",
      "Epoch: 2, Batch: 11400, loss: 0.363\n",
      "Epoch: 2, Batch: 11600, loss: 0.357\n",
      "Epoch: 2, Batch: 11800, loss: 0.371\n",
      "Epoch: 2, Batch: 12000, loss: 0.417\n",
      "Epoch: 2, Batch: 12200, loss: 0.399\n",
      "Epoch: 2, Batch: 12400, loss: 0.388\n",
      "Epoch: 2, Batch: 12600, loss: 0.377\n",
      "Epoch: 2, Batch: 12800, loss: 0.333\n",
      "Epoch: 2, Batch: 13000, loss: 0.346\n",
      "Epoch: 2, Batch: 13200, loss: 0.385\n",
      "Epoch: 2, Batch: 13400, loss: 0.388\n",
      "Epoch: 2, Batch: 13600, loss: 0.358\n",
      "Epoch: 2, Batch: 13800, loss: 0.329\n",
      "Epoch: 2, Batch: 14000, loss: 0.420\n",
      "Epoch: 2, Batch: 14200, loss: 0.379\n",
      "Epoch: 2, Batch: 14400, loss: 0.394\n",
      "Epoch: 2, Batch: 14600, loss: 0.382\n",
      "Epoch: 2, Batch: 14800, loss: 0.428\n",
      "Epoch: 2, Batch: 15000, loss: 0.411\n",
      "Finished Training\n"
     ]
    }
   ],
   "source": [
    "overall_step = 0\n",
    "\n",
    "#TODO : Select appropriate number of epochs\n",
    "\n",
    "#Begin Your Code\n",
    "\n",
    "epochs = 2\n",
    "\n",
    "#End Your Code\n",
    "\n",
    "\n",
    "for epoch in range(epochs):  # loop over the dataset multiple times\n",
    "    running_loss = 0\n",
    "    for i, data in enumerate(trainloader, 0):\n",
    "        # get the inputs\n",
    "        inputs, labels = data\n",
    "\n",
    "        #TODO : Make predictions, calculate accuracy and update your weights once\n",
    "\n",
    "        #Begin Your Code\n",
    "\n",
    "        # zero the parameter gradients\n",
    "        optimizer.zero_grad()\n",
    "\n",
    "        # forward + backward + optimize\n",
    "        outputs = net(inputs)\n",
    "        loss = criterion(outputs, labels)\n",
    "        loss.backward()\n",
    "        optimizer.step()\n",
    "\n",
    "        #End Your Code\n",
    "\n",
    "        # print statistics\n",
    "        running_loss += loss.item()\n",
    "        if i % 200 == 199:    # print every 200 mini-batches\n",
    "            print('Epoch: %d, Batch: %5d, loss: %.3f' %\n",
    "                  (epoch + 1, i + 1, running_loss / 200))\n",
    "            running_loss = 0.0\n",
    "            #Any thing that is added to the \"info\" gets plotted in tensorboard\n",
    "            #TODO : Add the plots in Tensorboard to the report and explain what is happening\n",
    "#             info = { ('loss') : loss.item(),('accuracy'): accuracy.item()}\n",
    "#             for tag, value in info.items():\n",
    "#                 logger.scalar_summary(tag, value, overall_step+1)\n",
    "\n",
    "print('Finished Training')"
   ]
  },
  {
   "cell_type": "markdown",
   "metadata": {
    "colab_type": "text",
    "id": "RREjngOC_X2F"
   },
   "source": [
    "## 6. Test Accuracy\n",
    "Let us look at how the network performs on the test dataset.  \n",
    "Report your accuracy in your report.\n",
    "\n"
   ]
  },
  {
   "cell_type": "code",
   "execution_count": 7,
   "metadata": {},
   "outputs": [
    {
     "name": "stdout",
     "output_type": "stream",
     "text": [
      "Accuracy of the network on the 10000 test images: 87 %\n"
     ]
    }
   ],
   "source": [
    "correct = 0\n",
    "total = 0\n",
    "with torch.no_grad():\n",
    "    for data in testloader:\n",
    "        images, labels = data\n",
    "        outputs = net(images)\n",
    "        _, predicted = torch.max(outputs.data, 1)\n",
    "        total += labels.size(0)\n",
    "        correct += (predicted == labels).sum().item()\n",
    "\n",
    "#TODO : Report this accuracy in your report.\n",
    "\n",
    "print('Accuracy of the network on the 10000 test images: %d %%' % (\n",
    "    100 * correct / total))"
   ]
  },
  {
   "cell_type": "markdown",
   "metadata": {
    "colab_type": "text",
    "id": "FCCVNEjV_X2G"
   },
   "source": [
    "## 7. Per Class accuracy\n",
    "Now we see the test accuracy for each class in the test dataset.  \n",
    "Report these accuracies in your report. Also identify the problematic classes.  \n",
    "Can you explain why these classes have significantly lower accuracies compared to other classes?\n"
   ]
  },
  {
   "cell_type": "code",
   "execution_count": 8,
   "metadata": {},
   "outputs": [
    {
     "name": "stdout",
     "output_type": "stream",
     "text": [
      "Accuracy of T-shirt/top : 87 %\n",
      "Accuracy of Trouser : 95 %\n",
      "Accuracy of Pullover : 80 %\n",
      "Accuracy of Dress : 92 %\n",
      "Accuracy of  Coat : 77 %\n",
      "Accuracy of Sandal : 96 %\n",
      "Accuracy of Shirt : 53 %\n",
      "Accuracy of Sneaker : 93 %\n",
      "Accuracy of   Bag : 97 %\n",
      "Accuracy of Ankle boot : 96 %\n"
     ]
    }
   ],
   "source": [
    "class_correct = list(0. for i in range(10))\n",
    "class_total = list(0. for i in range(10))\n",
    "with torch.no_grad():\n",
    "    for data in testloader:\n",
    "        images, labels = data\n",
    "        outputs = net(images)\n",
    "        _, predicted = torch.max(outputs, 1)\n",
    "        c = (predicted == labels).squeeze()\n",
    "        for i in range(4):\n",
    "            label = labels[i]\n",
    "            class_correct[label] += c[i].item()\n",
    "            class_total[label] += 1\n",
    "\n",
    "\n",
    "for i in range(10):\n",
    "    print('Accuracy of %5s : %2d %%' % (\n",
    "        classes[i], 100 * class_correct[i] / class_total[i]))"
   ]
  },
  {
   "cell_type": "markdown",
   "metadata": {},
   "source": [
    "# Report of CNN\n",
    "\n",
    "Since increasing layers may increase accuracy of neural network, three fully connected layers are applied here instead of one.\n",
    "The accuracies of each type from top to bottom are 87%, 95%, 80%, 92%, 77%, 96%, 53%, 93%, 97%, 96%, respectively. The total accuracy of the task is 87%.\n",
    "\n",
    "**Shirt** class and have significantly low accuracy because the shirts training set look very different from each other. The weights are not easy to be trained to converge. **Coat** and **pullover** have relatively low accuracy because these two classes are very similar to each other.\n"
   ]
  }
 ],
 "metadata": {
  "colab": {
   "collapsed_sections": [],
   "name": "hw4.ipynb",
   "provenance": []
  },
  "kernelspec": {
   "display_name": "Python 3",
   "language": "python",
   "name": "python3"
  },
  "language_info": {
   "codemirror_mode": {
    "name": "ipython",
    "version": 3
   },
   "file_extension": ".py",
   "mimetype": "text/x-python",
   "name": "python",
   "nbconvert_exporter": "python",
   "pygments_lexer": "ipython3",
   "version": "3.7.4"
  }
 },
 "nbformat": 4,
 "nbformat_minor": 1
}